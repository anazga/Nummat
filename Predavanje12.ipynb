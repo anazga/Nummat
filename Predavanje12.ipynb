{
 "cells": [
  {
   "cell_type": "markdown",
   "metadata": {},
   "source": [
    "# Numerička matematika - 12. predavanje"
   ]
  },
  {
   "cell_type": "markdown",
   "metadata": {},
   "source": [
    "## 1. Metoda bisekcije\n"
   ]
  },
  {
   "cell_type": "markdown",
   "metadata": {},
   "source": [
    "U ovom dijelu predavanja objašnjavamo metodu bisekcije\n",
    "\n",
    "\n"
   ]
  },
  {
   "cell_type": "code",
   "execution_count": 2,
   "metadata": {
    "scrolled": false
   },
   "outputs": [
    {
     "data": {
      "image/jpeg": "[encoded data removed]",
      "text/html": [
       "\n",
       "        <iframe\n",
       "            width=\"400\"\n",
       "            height=\"300\"\n",
       "            src=\"https://www.youtube.com/embed/SC90J7e16cg\"\n",
       "            frameborder=\"0\"\n",
       "            allowfullscreen\n",
       "        ></iframe>\n",
       "        "
      ],
      "text/plain": [
       "<IPython.lib.display.YouTubeVideo at 0x1c3887fc358>"
      ]
     },
     "metadata": {},
     "output_type": "display_data"
    }
   ],
   "source": [
    "from IPython.lib.display import YouTubeVideo\n",
    "vid = YouTubeVideo(\"SC90J7e16cg\")\n",
    "display(vid)"
   ]
  },
  {
   "cell_type": "markdown",
   "metadata": {},
   "source": [
    "Link na video: https://youtu.be/SC90J7e16cg \n",
    "\n",
    "Tražimo nultočku funkcije $f(x) = x^2 −2$. Očito je da se vrijednost\n",
    "$\\sqrt{2}$ nalazi  unutar intervala $[0,2]$. U Matlabu je implementacija metode bisekcije dana nizom naredbi\n",
    "\n",
    "<img src=\"bisekcija.png\" alt=\"Drawing\" style=\"width: 400px;\"/>\n",
    "\n",
    "daje sljedeće rezultate\n",
    "\n",
    "\n",
    "<img src=\"bisekcija1.png\" alt=\"Drawing\" style=\"width: 300px;\"/>\n",
    "\n",
    "Metoda bisekcije je vrlo robustan algoritam. No, konvergencija ove metode može biti jako spora. Ovdje vidimo da su nam potrebne 32 iteracije da dobijemo zadovoljavajuću točnost, dok ćemo u poglavlju s Newtonovom metodom vidjeti da $\\sqrt{2}$ možemo izračunati Newtonovom metodom s točnošću $10^{-10}$ u svega $5$ iteracija. Također, nedostatak metode bisekcije je nemogućnost njene generalizacije na rješavanje sustava jednadžbi. Zbog činjenice da uvijek konvergira prema rješenju, metoda biskcije se u praksi često koristi za određivanje početne aproksimacije neke efikasnije metode traženja nultočke realne funkcije jedne varijable.\n"
   ]
  },
  {
   "cell_type": "markdown",
   "metadata": {},
   "source": [
    "## 2. Newtonova metoda\n"
   ]
  },
  {
   "cell_type": "markdown",
   "metadata": {},
   "source": [
    "U ovom dijelu predavanja bavimo se Newtonovom metodom"
   ]
  },
  {
   "cell_type": "code",
   "execution_count": 5,
   "metadata": {
    "scrolled": true
   },
   "outputs": [
    {
     "data": {
      "text/html": [
       "\n",
       "        <iframe\n",
       "            width=\"400\"\n",
       "            height=\"300\"\n",
       "            src=\"https://www.youtube.com/embed/vbHaUgXMvq8 \"\n",
       "            frameborder=\"0\"\n",
       "            allowfullscreen\n",
       "        ></iframe>\n",
       "        "
      ],
      "text/plain": [
       "<IPython.lib.display.YouTubeVideo at 0x1c38a2186a0>"
      ]
     },
     "metadata": {},
     "output_type": "display_data"
    }
   ],
   "source": [
    "from IPython.lib.display import YouTubeVideo\n",
    "vid = YouTubeVideo(\"vbHaUgXMvq8 \") \n",
    "display(vid)"
   ]
  },
  {
   "cell_type": "markdown",
   "metadata": {},
   "source": [
    "Link na video: https://youtu.be/vbHaUgXMvq8 \n",
    "\n",
    "**Zadatak** Zadana je funkcija $f(x)=e^x-a$\n",
    "\n",
    "(1) Napišite Newtonovu metodu za traženje nultočke od $f$ uz početnu vrijednost $x_0=a.$ Dobiveni niz označite s $(x_n)$\n",
    "\n",
    "\n",
    "(2) Pokažite da je Newtonova metoda lokalno kvadratno konvergentna.\n",
    "\n",
    "(3) Koristeći činjenicu da za niz $(x_n)$ iz (1) vrijedi $f(x_n)>0, \\forall n\\in \\mathbb{N}_0$ pokažite da je niz monotono padajući, ograničen odozdo  s $\\ln a$\n",
    "\n",
    "(4) odredite limes ovog niza\n",
    "\n",
    "\n",
    "*Rješenje* Uočimo prvo da nultočku ove funkcije možemo eksplicitno izračunati i da je nultočka ove funkcije $x^*=\\ln a$. Uočimo i da je $f'(x)=e^x$ i $f''(x)=e^x.$\n",
    "\n",
    "(1) $x_0=a$, $x_{n+1}=x_n-\\frac{e^{n_n}-a}{e^{n_n}}=x_n-1-\\frac{a}{x_n},\\quad n\\in\\mathbb{N}$\n",
    "\n",
    "\n",
    "(2) imamo $f'(x^*)=a, f''(x^*)=a\\neq 0$  \n",
    "Imamo \n",
    "$$\\varphi(x)=x-\\frac{f(x)}{f'(x)}$$\n",
    "odnosno dobije se\n",
    "$$\\varphi'(x)=\\frac{f(x)f''(x)}{(f'(x))^2}$$\n",
    "za $x^*=\\ln a$ je $f(x^*)=0$ i $\\varphi'(x^*)=0.$\n",
    "\n",
    "\n",
    "Za drugu derivaciju dobivamo\n",
    "\n",
    "$$\\varphi''(x)=\\frac{(f'f''+ff''')f'^2-ff''^2\\cdot 2f'}{f'^4}$$\n",
    "\n",
    "Odavde imamo\n",
    "$$\\varphi''(x^*)=\\frac{(a^2+0)a^2-0}{a^4}=1\\neq 0$$\n",
    "odnosno radi se o kvadratnoj konvergeniciji.\n",
    "\n",
    "(3) Budući da je $f(x_n)> 0$ nalazimo da vrijedi\n",
    "$$e^{x_n}-a>0\\ \\forall n$$\n",
    "$$e^{x_n}>a$$\n",
    "$$\\frac{a}{e^{x_n}}<1$$ \n",
    "odnosno\n",
    "$$1-\\frac{a}{e^{x_n}}>0.$$\n",
    "\n",
    "Odavde slijedi da je\n",
    "$$x_{n+1}=x_n-(1-\\frac{a}{x_n})<x_n, \\ \\forall n$$\n",
    "pa je niz monotono padajući. \n",
    "\n",
    "Nadalje, vrijedi $x_n>\\ln a,\\ \\forall n$ jer je $e^{x_n}>a.$\n",
    "\n",
    "(4) Limes dobivamo tako da s limesom djelujemo na rekurziju. Ako označimo $x^*=\\lim_{n\\rightarrow +\\infty}x_n$\n",
    "onda imamo\n",
    "$$x^*=x^*-1+\\frac{a}{e^{x_n}}$$\n",
    "a odavde dobivamo \n",
    "$$x^*=\\ln a.$$"
   ]
  },
  {
   "cell_type": "code",
   "execution_count": 7,
   "metadata": {},
   "outputs": [
    {
     "data": {
      "image/jpeg": "[encoded data removed]",
      "text/html": [
       "\n",
       "        <iframe\n",
       "            width=\"400\"\n",
       "            height=\"300\"\n",
       "            src=\"https://www.youtube.com/embed/zBjyS9XHEb0\"\n",
       "            frameborder=\"0\"\n",
       "            allowfullscreen\n",
       "        ></iframe>\n",
       "        "
      ],
      "text/plain": [
       "<IPython.lib.display.YouTubeVideo at 0x1c38a218b38>"
      ]
     },
     "metadata": {},
     "output_type": "display_data"
    }
   ],
   "source": [
    "from IPython.lib.display import YouTubeVideo\n",
    "vid = YouTubeVideo(\"zBjyS9XHEb0\") \n",
    "display(vid)"
   ]
  },
  {
   "cell_type": "markdown",
   "metadata": {},
   "source": [
    "Link na video: https://youtu.be/zBjyS9XHEb0 \n",
    "\n",
    "**Zadatak** Izračunajte prvih 5 iteracija Newtonove metode za rješavanje nelinearnog sustava\n",
    "Newtonovom metodom treba rije\\v siti nelinearni sustav \n",
    "     \\begin{align*}\n",
    "         x_1^2 + x_2^2 &= 1\\\\\n",
    "         x_1^2 - x_2^2 &= -0.5.\n",
    "     \\end{align*}\n",
    "pri čemu je zadana  početna iteracija  $\\mathbb{x}^0 = (1,3)$. \t\n",
    "\n",
    "*Rješenje*\n",
    "\n",
    "Lako se vidi da su egzaktna rješenja ovog nelinearnog sustava\n",
    "$$\\begin{bmatrix}\n",
    " \\pm \\frac{1}{2} \\\\\n",
    " \\pm \\frac{\\sqrt 3}{2} \n",
    "\\end{bmatrix} \\approx\n",
    "\\begin{bmatrix}\n",
    " \\pm 0.500000000000000\\\\\n",
    " \\pm 0.866025403784439\n",
    " \\end{bmatrix}.\n",
    " $$\n",
    "\n",
    "Zadana nelinearna funkcija $F \\colon \\mathbb{R}^2 \\to \\mathbb{R}^2$ i pripadni Jakobijan\n",
    "glase\n",
    "$$   F(\\mathbb{x}) = \\begin{bmatrix}\n",
    "      x_1^2 + x_2^2 - 1 \\\\\n",
    "       x_1^2 - x_2^2 + 0.5\n",
    "\\end{bmatrix},  \\quad  DF(\\mathbb{x}) = \\begin{bmatrix}\n",
    "      2 x_1 & 2x_2  \\\\\n",
    "      2 x_1 & - 2x_2\n",
    "\\end{bmatrix}. $$\n",
    "\n",
    "U prvom koraku rješavamo\n",
    "linearni sustav \n",
    "$$DF(1,3) \\mathbb{s}^0 = -F(1,3),  $$\n",
    " odnosno\n",
    " \\begin{align*}\n",
    "2s_1 + 6s_2 &= -9\\\\\n",
    "2s_1 - 6s_2 & = 7.5.\n",
    "\\end{align*}\n",
    "Dobivamo Newtonov  korak $\\mathbb{s}^0 = \\begin{bmatrix}  -0.375 &- 1.375  \\end{bmatrix}^T$,\n",
    "odnosno prva Newtonova iteracija glasi \n",
    "$$\\mathbb{x}^1 = \\mathbb{x}^0 + \\mathbb{s}^0 = \\begin{bmatrix} 0.625 & 1.625 \\end{bmatrix}^T. $$\n",
    "\n",
    "U drugom koraku rješavamo linearni sustav \n",
    "$$ DF(0.625,1.625) \\mathbb{s}^1 = -F(0.625,1.625), $$ \n",
    "odnosno\n",
    " \\begin{align*}\n",
    "1.25s_1 + 3.25s_2 &= -2.0306\\\\\n",
    "1.25s_1  -3.25s_2 & = 1.75.\n",
    "\\end{align*}\n",
    "Dobiva se korak $\\mathbb{s}^1 = \\begin{bmatrix} -0.112240000000000  &-0.581630769230769 \\end{bmatrix}^T$,\n",
    "odakle slijedi iteracija \n",
    "$$ \\mathbb{x}^2 = \\mathbb{x}^1 + \\mathbb{s}^1 = \\begin{bmatrix} 0.512760000000000 &  1.043369230769231 \\end{bmatrix}^T. $$\n",
    "Slično, dobivamo sljedeće iteracije\n",
    "\\begin{align*}\n",
    "  \\mathbb{x}^3 = \\begin{bmatrix}\n",
    " 0.500152439024390 \\\\\n",
    " 0.881081619992910\n",
    " \\end{bmatrix}, \\quad \\mathbb{x}^4 = \\begin{bmatrix}\n",
    " 0.500000023230574 \\\\\n",
    " 0.866154046603317\n",
    " \\end{bmatrix}, \n",
    "\\end{align*}\n",
    "\\begin{align*}\n",
    " \\mathbb{x}^5 = \\begin{bmatrix}\n",
    " 0.500000000000000 \\\\\n",
    " 0.866025413337575\n",
    " \\end{bmatrix}.\n",
    "\\end{align*}\n",
    "............\n",
    "...........\n",
    "\n",
    "Kao i u slučaju rješavanja jedne nelinearne jednadžbe,\n",
    "kod nelinearnih sustava početna iteracija mora biti dovoljno blizu\n",
    "traženog rješenja. Sljedeći primjer pokazuje da loše \n",
    "odabrana početna iteracija ne vodi prema rješenju.\n",
    "\n",
    "Promotrimo nelinearni sustav \n",
    "\\begin{align*}\n",
    "e^{x_1}  &= 1,\\\\\n",
    "e^{x_2} & = 1\n",
    "\\end{align*}\n",
    "čije egzaktno rješenje glasi $\\mathbb{x}^* = \\begin{bmatrix} 0 & 0 \\end{bmatrix}^T$.\n",
    "Za početnu iteraciju uzmimo $\\mathbb{x}^0 = \\begin{bmatrix} -10 & -10 \\end{bmatrix}^T$.\n",
    "Direktan račun daje\n",
    "$$ \\mathbb{x}^1 = \\begin{bmatrix}\n",
    "-11 + e^{10} & -11 + e^{10}\n",
    "\\end{bmatrix}^T \\approx\n",
    " \\begin{bmatrix}\n",
    "2.2 \\cdot 10^4 & 2.2 \\cdot 10^4\n",
    "\\end{bmatrix}^T, $$\n",
    "čime smo se bitno udaljili od očekivanog rješenja.\n",
    "\n",
    "**Zadatak** U skripti proći globalno konvergentnu Newtonovu metodu u više dimenzija, Kvazi-Newtonove metode te metodu najbržeg silaska. Proučiti primjer rješavanja diferencijalne jednadžbe- matematičko njihalo."
   ]
  },
  {
   "cell_type": "code",
   "execution_count": null,
   "metadata": {},
   "outputs": [],
   "source": []
  },
  {
   "cell_type": "code",
   "execution_count": null,
   "metadata": {},
   "outputs": [],
   "source": []
  }
 ],
 "metadata": {
  "kernelspec": {
   "display_name": "Python 3",
   "language": "python",
   "name": "python3"
  },
  "language_info": {
   "codemirror_mode": {
    "name": "ipython",
    "version": 3
   },
   "file_extension": ".py",
   "mimetype": "text/x-python",
   "name": "python",
   "nbconvert_exporter": "python",
   "pygments_lexer": "ipython3",
   "version": "3.6.4"
  }
 },
 "nbformat": 4,
 "nbformat_minor": 2
}
