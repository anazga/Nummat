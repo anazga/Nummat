{
 "cells": [
  {
   "cell_type": "markdown",
   "metadata": {},
   "source": [
    "# Gaussove eliminacije i LU rastav"
   ]
  },
  {
   "cell_type": "markdown",
   "metadata": {},
   "source": [
    "## 1. Ponavljanje s prethodnog predavanja"
   ]
  },
  {
   "cell_type": "markdown",
   "metadata": {},
   "source": [
    "Na prethodnim predavanjima bavili smo se rješavanjem sustava\n",
    "$$5x_1+x_2+4x_3=19$$\n",
    "$$10x_1+4x_2+7x_3=39$$\n",
    "$$-15x_1+5x_2-9x_3=-32$$\n",
    "Iz Matematike 1 je poznato da ovaj sustav možemo zapisati u obliku $Ax=b.$\n",
    "Nadalje, vidjeli smo da matricu $A=\\begin{bmatrix}5&1&4\\\\ 10& 4& 7\\\\ -15 &5& -9\\end{bmatrix}$ možemo zapisati kao produkt dviju matrica odnosno u obliku\n",
    "$$A=\\begin{bmatrix}5&1&4\\\\ 10& 4& 7\\\\ -15 &5& -9\\end{bmatrix}=\\begin{bmatrix}1&0&0\\\\ 2& 1& 0\\\\ -3 &4& 1\\end{bmatrix}\\begin{bmatrix}5&1&4\\\\ 0& 2& -1\\\\ 0 &0& 7\\end{bmatrix}=LU$$\n",
    " [//!]: ![slika1](https://raw.githubusercontent.com/anazga/kongres/master/njihalo.gif \"Njihalo\")\n",
    "\n",
    "Ovdje je matrica $L$ **donjetrokutasta matrica s jedinicama na dijagonali**, elementi ispod dijagonale su odgovarajući **multiplikatori** koji odgovaraju određenoj elementarnoj transformaciji. Matrica $U$ je **gornjetrokutasta matrica**, pri tome su elementi na dijagonali matrice $U$ **pivoti**.\n",
    "Do matrice $U$ došli smo dakle, elementarnim transformacijama, odnosno množeći matricu $A$ s lijeva pripadnom matricom transformacije. Na prethodnom predavanju pokazali smo postupak dobivanja matrica $M_1$ i $M_2$ za koje vrijedi jednakost\n",
    "$$U=M_2M_1A \\quad b^{(2)}=M_2M_1b$$\n",
    "pri čemu je \n",
    "$$M_1=\\begin{bmatrix}1&0&0\\\\ -2& 1& 0\\\\ 3 &0& 1\\end{bmatrix}\\qquad M_2=\\begin{bmatrix}1&0&0\\\\ 0& 1& 0\\\\ 0 &-4& 1\\end{bmatrix}.$$\n",
    "Nadalje, matrica $U$ i vektor $b^{(2)}$ dani su s \n",
    "$$U=\\begin{bmatrix}5&1&4\\\\ 0& 2& -1\\\\ 0 &0& 7\\end{bmatrix}\\qquad b^{(2)}=\\begin{bmatrix}19\\\\ 1\\\\ 21 \\end{bmatrix}.$$\n",
    "\n",
    "Nadalje, uz oznaku $M=M_2 M_1$ i iz $U=MA$ vidjeli smo da je\n",
    "$$L=M^{-1}=M_1^{-1}M_2^{-1}=\\begin{bmatrix}1&0&0\\\\ 2& 1& 0\\\\ -3 &0& 1\\end{bmatrix}\\begin{bmatrix}1&0&0\\\\ 0& 1& 0\\\\ 0 &4& 1\\end{bmatrix}=\\begin{bmatrix}1&0&0\\\\ 2& 1& 0\\\\ -3 &4& 1\\end{bmatrix}.$$\n",
    "\n",
    "Uočimo da općenito za matrice oblika \n",
    "$$M_1=\\begin{bmatrix}1&0&0\\\\ m_{21}& 1& 0\\\\ m_{31} &0& 1\\end{bmatrix}\\quad M_2=\\begin{bmatrix}1&0&0\\\\ 0 & 1& 0\\\\ 0 &m_{32}& 1\\end{bmatrix}$$\n",
    "vrijedi $$M_1^{-1}=\\begin{bmatrix}1&0&0\\\\ -m_{21}& 1& 0\\\\ -m_{31} &0& 1\\end{bmatrix}\\quad M_2^{-1}=\\begin{bmatrix}1&0&0\\\\ 0 & 1& 0\\\\ 0 & -m_{32}& 1\\end{bmatrix}$$\n",
    "te je \n",
    "$$M=M_1^{-1}M_2^{-1}=\\begin{bmatrix}1&0&0\\\\ -m_{21} & 1& 0\\\\ -m_{31} & -m_{32}& 1\\end{bmatrix}.$$\n",
    "Prilikom implementacije morat ćemo štedjeti memoriju računala. Pogledajmo kako efektivno možemo zapisati postupak dobivanja matrice $L$ i matrice $U$."
   ]
  },
  {
   "cell_type": "code",
   "execution_count": 2,
   "metadata": {
    "scrolled": true
   },
   "outputs": [
    {
     "data": {
      "image/jpeg": "[encoded data removed]",
      "text/html": [
       "\n",
       "        <iframe\n",
       "            width=\"400\"\n",
       "            height=\"300\"\n",
       "            src=\"https://www.youtube.com/embed/u6PB-5gCMRQ\"\n",
       "            frameborder=\"0\"\n",
       "            allowfullscreen\n",
       "        ></iframe>\n",
       "        "
      ],
      "text/plain": [
       "<IPython.lib.display.YouTubeVideo at 0x1ed6db42b00>"
      ]
     },
     "metadata": {},
     "output_type": "display_data"
    }
   ],
   "source": [
    "from IPython.lib.display import YouTubeVideo\n",
    "vid = YouTubeVideo(\"u6PB-5gCMRQ\")\n",
    "display(vid)"
   ]
  },
  {
   "cell_type": "markdown",
   "metadata": {},
   "source": [
    "# Zadatci za vježbu (obavezni za gornji dio gradiva)\n",
    "1. Na  matricu $A$ iz primjera koji je objavljen u video lekciji primijenite lugui.m (objavljeno na Moodle sustavu) te potom u Matlabu odredite LU faktorizaciju ove matrice birajući redom pivote kao što smo to napravili na prethodnom predavanju (5,2,7).\n",
    "2. Zadana je matrica $$A=\\begin{bmatrix}a_{11}& a_{12}& a_{13}\\\\\n",
    "a_{21}& a_{22}& a_{23}\\\\\n",
    "a_{31}& a_{32}& a_{33}\\end{bmatrix}.$$\n",
    "Odredite matricu iz $\\mathbf{R}^{3\\times 3}$ koja množenjem matrice $A$ s lijeva vrši množenje drugog retka matrice $A$ sa $7$ i dodaje rezultat trećem retku. Svoje rješenje provjerite u Matlabu ili koristeći Python."
   ]
  },
  {
   "cell_type": "markdown",
   "metadata": {},
   "source": [
    "#  LU faktorizacija matrice i primjena na rješavanje sustava"
   ]
  },
  {
   "cell_type": "markdown",
   "metadata": {},
   "source": [
    "**Definicija** *Kažemo da matrica $A\\in\\mathbf{R}^{n\\times n}$ ima $LU$ faktorizaciju ako se može zapisati u obliku $A=LU$ gdje je $L$ donjetrokutasta matrica s jedinicama na dijagonali, a $U$ gornjetrokutasta matrica*"
   ]
  },
  {
   "cell_type": "markdown",
   "metadata": {},
   "source": [
    "Pokažimo sada kako možemo $LU$ faktorizaciju matrice $A$ iskoristiti pri rješavanju sustava $Ax=b.$"
   ]
  },
  {
   "cell_type": "markdown",
   "metadata": {},
   "source": [
    "Rješavamo sustav $$Ax=b$$\n",
    "Ako nam je poznata dekompozicija $A=LU$ imamo\n",
    "$$LUx=b$$\n",
    "Neka je $Ux=y$. Rješenje početnog sustava $x$ dobijemo tako da najprije riješimo sustav $Ly=b$ te odredimo $y$, a potom $Ux=y.$ Takve je sustave lakše rješavati jes tu to sustavi s trokutastim matricama.\n",
    "Objasnimo sada algoritam za $A\\in \\mathbf{R}^{3\\times 3}.$:\n",
    "1. Određivanje LU faktorizacije matrice\n",
    "2. Rješavanje donjetrokutastog sustava (**supstitucije unaprijed (forward)**)\n",
    " $$\\begin{bmatrix} 1& 0 &0 \\\\ l_{21}& 1& 0\\\\ l_{31}& l_{32}& 1\\end{bmatrix}\\begin{bmatrix}\n",
    " y_1\\\\ y_2\\\\y_3\\end{bmatrix}=\\begin{bmatrix}b_1\\\\b_2\\\\b_3\\end{bmatrix}$$\n",
    " \n",
    "3. Rješavanje gornjetrokutastog sustava (**supstitucije unatrag (backward)**)\n",
    " $$\\begin{bmatrix} u_{11}& u_{12} &u_{13} \\\\ 0 & u_{22}& u_{23}\\\\ 0 & 0 & u_{33}\\end{bmatrix}\\begin{bmatrix}\n",
    " x_1\\\\ x_2\\\\x_3\\end{bmatrix}=\\begin{bmatrix}y_1\\\\y_2\\\\y_3\\end{bmatrix}$$"
   ]
  },
  {
   "cell_type": "markdown",
   "metadata": {},
   "source": [
    "## Rješenje sustava s početka ovog predavanja\n",
    " U našem je primjeru sustav $Ly=b$ dan s\n",
    " $$\\begin{bmatrix} 1& 0 &0 \\\\ 2& 1& 0\\\\ -3& 4& 1\\end{bmatrix}\\begin{bmatrix}\n",
    " y_1\\\\ y_2\\\\y_3\\end{bmatrix}=\\begin{bmatrix}19\\\\39\\\\-32\\end{bmatrix}$$ te odavde lako iščitavamo (suspstitucije unaprijed)\n",
    " $$y_1=19$$\n",
    " $$2y_1+y_2=39\\Rightarrow y_2=1$$\n",
    " $$-3y_2+4y_2+y_3=-32\\Rightarrow y_3=21$$"
   ]
  },
  {
   "cell_type": "markdown",
   "metadata": {},
   "source": [
    "Gornje trokutasti sustav  je tada \n",
    " $$\\begin{bmatrix} 5& 1 &4 \\\\ 0& 2& -1\\\\ 0& 0& 7\\end{bmatrix}\\begin{bmatrix}\n",
    " x_1\\\\ x_2\\\\x_3\\end{bmatrix}=\\begin{bmatrix}19\\\\1\\\\21\\end{bmatrix}$$ te odavde lako iščitavamo (supstitucije unatrag)\n",
    " $$x_3=3$$\n",
    " $$2x_2-x_3=1\\Rightarrow x_2=2$$\n",
    " $$5x_1+x_2+4x_3=19\\Rightarrow x_1=1$$\n"
   ]
  },
  {
   "cell_type": "markdown",
   "metadata": {},
   "source": [
    "# Postupak Gaussove metode eliminacija na općenitom sustavu"
   ]
  },
  {
   "cell_type": "code",
   "execution_count": 4,
   "metadata": {
    "scrolled": true
   },
   "outputs": [
    {
     "data": {
      "image/jpeg": "[encoded data removed]",
      "text/html": [
       "\n",
       "        <iframe\n",
       "            width=\"400\"\n",
       "            height=\"300\"\n",
       "            src=\"https://www.youtube.com/embed/7OtLZSrvFDE\"\n",
       "            frameborder=\"0\"\n",
       "            allowfullscreen\n",
       "        ></iframe>\n",
       "        "
      ],
      "text/plain": [
       "<IPython.lib.display.YouTubeVideo at 0x1ed6b13d320>"
      ]
     },
     "metadata": {},
     "output_type": "display_data"
    }
   ],
   "source": [
    "\n",
    "vid = YouTubeVideo(\"7OtLZSrvFDE\")\n",
    "display(vid)"
   ]
  },
  {
   "cell_type": "markdown",
   "metadata": {},
   "source": [
    "Dakle, sada kada nam je poznata LU faktorizacija, sustav rješavamo na sljedeći način\n",
    "\n",
    "1. Ly=b, dobijemo rješenje sustava y\n",
    "2. Ux=y i dobijemo rješenje x koje je i rješenje polaznog sustava"
   ]
  },
  {
   "cell_type": "markdown",
   "metadata": {},
   "source": [
    "# Pseudo kod (LU faktorizacija)\n",
    "\n",
    "Pogledajmo sada pseudo kod rješavanja matrice, pri tome uočimo da ponovno koristimo matricu $A$ kako bismo uštedili memoriju računala kao što je to prikazano \"na papiru\" u prvom videu u sklopu ovog predavanja. U donji trokut spremamo multiplikatore i u u donjem trokutu u krajnjem zapisu imamo sve elemente koji su ispod dijagonale u matrici $L$. U gornjem trokutu je zapisana matrica $U$\n",
    "![pseudokod](pseudokod.png)\n"
   ]
  },
  {
   "cell_type": "markdown",
   "metadata": {},
   "source": [
    "U gornjem pseudokodu  ćemo primjerice za $n=5$ i $k=3$ računati\n",
    "\n",
    "\n",
    "$i=4$, $\\mu=\\frac{a_{43}}{a_{33}},$ te ćemo postaviti $a_{43}=\\mu$ (multiplikatore spremamo u donji trokut)\n",
    "\n",
    "\n",
    "$\\quad j=3, \\ a_44=a_{44}-\\mu a_{34}$\n",
    "\n",
    "\n",
    "$\\quad j=5,\\ a_{45}=a_{45}-\\mu a_{35}$\n",
    "\n",
    "\n",
    "$i=5, \\mu=\\frac{a_{53}}{a_{33}},\\quad a_{53}=\\mu.$\n",
    "\n",
    "Dakle na mjesto $(4,5)$ spremamo multiplikator $\\mu$, dok su elementi na mjestima $(4,4)$ i $(4,5)$ su nove vrijednosti."
   ]
  },
  {
   "cell_type": "markdown",
   "metadata": {},
   "source": [
    "# Pseudo kod (Rješavanje sustava)"
   ]
  },
  {
   "cell_type": "markdown",
   "metadata": {},
   "source": [
    "\n",
    "![sustav](sustav.png)"
   ]
  },
  {
   "cell_type": "markdown",
   "metadata": {},
   "source": [
    "Uočimo da u gornjem algoritmu linije 3-7 rješavaju sustav $Ly=b$ odnosno imamo supstitucije unaprijed. Kako bismo uštedjeli na memorijskom prostoru, rezultat ćemo pospremiti u vektor $b$. \n",
    "Primjerice ako imamo sustav reda 5 \n",
    "$$\\begin{bmatrix}1&0&0&0&0\\\\\n",
    "*&1&0&0&0\\\\\n",
    "*&*&1&0&0\\\\\n",
    "*&*&*&1&0\\\\\n",
    "*&*&*&*&1\\end{bmatrix}\\begin{bmatrix}x_1\\\\y_2\\\\ y_3\\\\y_4\\\\y_5\\end{bmatrix}=\\begin{bmatrix}b_1\\\\b_2\\\\b_3\\\\b_4\\\\b_5\\end{bmatrix}\n",
    "$$\n",
    "tada je $y_1=b_1$, no mi ćemo umjesto u novi vektor $y$ podatke pospremiti u vektor $b$ pa pišemo $b_1=b_1$. Za drugu jednadžbu bismo imali $y_2=b_2-a_{21}b_1$, (uočite da je u element $a_{21}$ pospremljen multiplikator) pa pišemo $b_2=b_2-a_{21}b_2$ itd.\n",
    "\n",
    "Linije 8-14 rješavaju sustav $Ux=y$ odnosno u našoj notaciji sada $Ux=b$, te rezultat ponovno pospremamo u vektor $b$. \n",
    "Primjerice da imamo sustav reda 5 \n",
    "$$\\begin{bmatrix}*&*&*&*&*\\\\\n",
    "0&*&*&*&*\\\\\n",
    "0&0&*&*&*\\\\\n",
    "0&0&0&*&*\\\\\n",
    "0&0&0&0&*\\end{bmatrix}\\begin{bmatrix}x_1\\\\x_2\\\\ x_3\\\\x_4\\\\x_5\\end{bmatrix}=\\begin{bmatrix}b_1\\\\b_2\\\\b_3\\\\b_4\\\\b_5\\end{bmatrix}\n",
    "$$\n",
    "imamo $x_5=\\frac{b_5}{a_{55}}$ ali implementiramo $b_5=\\frac{b_5}{a_{55}}$ itd."
   ]
  },
  {
   "cell_type": "markdown",
   "metadata": {},
   "source": [
    "### Implementacija u  Matlabu i Pythonu\n",
    "Na Moodle sustavu mogu se pronaći slajdovi s implementacijom LU faktorizacije u Matlabu.\n",
    "\n",
    "**Zadatak** Za vježbu pokušajte sami implementirati ovaj algoritam u Matlabu (ili Pythonu) da provjerite jeste li razumjeli kako algoritam funkcionira. Ako prilikom implementacije naiđete na probleme, pogledajte implementaciju zapisanu na slajdovima, a ako imate dodatnih pitanja slobofno se javite!\n",
    "\n"
   ]
  },
  {
   "cell_type": "markdown",
   "metadata": {},
   "source": [
    "#  Složenost algoritma Gaussovih eliminacija"
   ]
  },
  {
   "cell_type": "markdown",
   "metadata": {},
   "source": [
    "Pokažimo da je složenost algoritma Gaussovih eliminacija $O(\\frac{2}{3}n^3)$"
   ]
  },
  {
   "cell_type": "code",
   "execution_count": 5,
   "metadata": {},
   "outputs": [
    {
     "data": {
      "text/html": [
       "\n",
       "        <iframe\n",
       "            width=\"400\"\n",
       "            height=\"300\"\n",
       "            src=\"https://www.youtube.com/embed/Dq40ZAJmGcI \"\n",
       "            frameborder=\"0\"\n",
       "            allowfullscreen\n",
       "        ></iframe>\n",
       "        "
      ],
      "text/plain": [
       "<IPython.lib.display.YouTubeVideo at 0x1ed6cb581d0>"
      ]
     },
     "metadata": {},
     "output_type": "display_data"
    }
   ],
   "source": [
    "vid = YouTubeVideo(\"Dq40ZAJmGcI \")\n",
    "display(vid)"
   ]
  },
  {
   "cell_type": "markdown",
   "metadata": {},
   "source": [
    "Prilikom prebrojavanja računskih operacija u algoritmu za računanje $LU$ faktorizacije matrice vidjeli smo da moramo odraditi sljedeći broj operacija\n",
    "$$\\sum_{k=1}^{n-1}(n-k)(2(n-k)+1)$$\n",
    "U gornjoj sumi možemo uvesti indeks $j=n-k$, te nam tada $k=1\\Rightarrow j=n-1 $ i $k=n-1\\Rightarrow j=1.$\n",
    "Sada vrijedi\n",
    "$$S_1=\\sum_{k=1}^{n-1}(n-k)(2(n-k)+1)=\\sum_{j=1}^{n-1}j(2j+1)=\\sum_{j=1}^{n-1}j+2\\sum_{j=1}^{n-1}j^2$$\n",
    "Sada koristimo znanje iz Matematike 1 (navedene formule za ove sume smo obrađivali prvom tjednu nastave Matematike 1 uz matematičku indukciju) i dobivamo\n",
    "$$S_1=\\frac{n(n-1)}{2}+2\\frac{(n-1)n(2n-1)}{6}=n(n-1)\\frac{4n+1}{6}.$$"
   ]
  },
  {
   "cell_type": "markdown",
   "metadata": {},
   "source": [
    "U algoritmu za rješvanje sustava vidjeli smo da je ukupan broj računskih operacija bio jednak S_2+S_3 gdje je\n",
    "$$S_2=\\sum_{k=1}^{n-1}2(n-k)=\\sum_{j=1}^{n-1}2j=n(n-1)$$\n"
   ]
  },
  {
   "cell_type": "markdown",
   "metadata": {},
   "source": [
    "$$S_3=1+\\sum_{i=1}^{n-1}(2(n-i)+1)=[l=n-i]=1+\\sum_{l=1}^{n-1}(2l+1)=1+2\\frac{n(n-1)}{2}+n-1=1+(n-1)(n+1)$$\n",
    "Uočimo da je\n",
    "$$n(n-1)+(n-1)(n+1)+1=2n^2-n.$$\n",
    "Dakle, ukupan broj računskih operacija potrebam da odredimo rješenje sustava $n$ jednadžbi sa $n$ nepoznanica je \n",
    "$$n(n-1)\\frac{4n+1}{6}+2n^2-n=\\frac{2}{3}n^3+\\frac{3}{2}n^2-\\frac{7}{6}n=O(\\frac{2n^3}{3})$$"
   ]
  },
  {
   "cell_type": "markdown",
   "metadata": {},
   "source": [
    "# PIVOTIRANJE\n",
    "Razmislimo sada koji nam se **problemi** mogu javiti prilikom provođenja $LU$ faktorizacije. To su\n",
    "1. **Pivotni element je 0.**\n",
    "\n",
    "\n",
    "Npr.Imamo matricu $A=\\begin{bmatrix} 0& 1\\\\\n",
    "1&0\\end{bmatrix}$ i želimo provesti algoritam za $LU$ faktorizaciju koji smo opisali, naići ćemo na problem: *Možemo li uopće poništiti element $a_21$? Znači li to da $LU$ faktorizacija ne postoji*\n",
    "\n",
    "\n",
    "**Uočimo!**Ako zamijenimo retke ove matrice \"problem\" iz gornjih pitanja nestaje :).\n",
    "\n",
    "**Pitanje!** Ima li svaka regularna matrica $LU$ rastav? \n",
    "\n",
    "(odgovor: Nema, kao što to vidimo u primjeru za gornju matricu $A$, je rnavedena matrica je regularna. Nadalje, postoje i singularne matrice koje imaju $LU$ rastav. Primjer jedna takve matrice je $B=\\begin{bmatrix}1&1\\\\1& 1\\end{bmatrix}$)\n",
    "\n",
    "**Propozicija** $A\\in \\mathbf{R}^{n\\times n}$ ima $LU$ faktorizaciju ako i samo ako su sve matrice $A(1:i, 1:i)\\ i=1,2,\\ldots n-1$ regularne.\n",
    "\n",
    "2.** Ako imamo malu vrijednost za pivotni element! **\n",
    "\n"
   ]
  },
  {
   "cell_type": "markdown",
   "metadata": {},
   "source": [
    "I maleni pivotni element može biti problem!. Obavezno proučite primjere 2.5, 2.6, 2.7 iz skripte. I ovdje je rješenje zamjena redaka!"
   ]
  },
  {
   "cell_type": "markdown",
   "metadata": {},
   "source": [
    "## Parcijalno pivotiranje i permutacijske matrice"
   ]
  },
  {
   "cell_type": "markdown",
   "metadata": {},
   "source": [
    "Promjenu poretka jednadžbi zadanog sustava tijekom Gaussove metode eliminacija nazivamo **parcijalno pivotiranje**. u postupku parcijalnog pivotiranja $k$-ti redak zamijenjujemo s nekim retkom većeg indeksa koji u $k$-tom stupcu ima element različit od 0.  Biramo onaj koji je po apsolutnoj vrijednosti najveći.\n",
    "\n",
    "## Permutacijske matrice\n",
    "\n",
    "Pročitati str. 19 i 20 u skripti i odgovoriti i razmisliti o sljedećim pitanjima\n",
    "\n",
    "1. Jesu li permutacijske matrice regularne?\n",
    "2. Što je inverz permutacijske matrice? Je li to ponovno permutacijska matrica.\n",
    "3. Dobivamo li množenjem permutacijskih matrica ponovno permutacijsku matricu?\n",
    "4. Neka je $A$ matrica $4$-tog reda, kako izgleda matrica $P$ za koju je\n",
    "$PA=A_1$, gdje matrica $A_1$ dobivena iz matrice $A$ tako da smo joj zamijenili 1. i 4. redak.\n",
    "5. Što se dešava kada matricu $A$ množimo permutacijskom matricom s desna.\n",
    "6. Koja je vrijednost determinante permutacijske matrice?\n",
    "\n",
    "**Definicija** Za matricu $A\\in \\mathbf{R}^{n\\times n}$ faktorizacija oblika $PA=LU$, gdje je $P\\in \\mathbf{R}^{n\\times n}$ permutacijaska matrica, L donjetrokutasta matrica s jedinicama na dijagonali te u gornje trokutasta nazivamo $PLU$ faktorizacija matrice $A$\n"
   ]
  },
  {
   "cell_type": "markdown",
   "metadata": {},
   "source": [
    "**Teorem**Neka je $A\\in \\mathbf{R}^{n\\times n}$, Tada postoji permutacijska matrica $P$ takoda matrica $PA$ ima $LU$ faktorizaciju odnosno vrijedu $PA=LU$. Štoviše, postoji permutacijska matrica $P$ takva da su elementi matrice $L$ po modulu manji ili jednaki $1.$"
   ]
  },
  {
   "cell_type": "code",
   "execution_count": null,
   "metadata": {},
   "outputs": [],
   "source": []
  }
 ],
 "metadata": {
  "kernelspec": {
   "display_name": "Python 3",
   "language": "python",
   "name": "python3"
  },
  "language_info": {
   "codemirror_mode": {
    "name": "ipython",
    "version": 3
   },
   "file_extension": ".py",
   "mimetype": "text/x-python",
   "name": "python",
   "nbconvert_exporter": "python",
   "pygments_lexer": "ipython3",
   "version": "3.6.4"
  }
 },
 "nbformat": 4,
 "nbformat_minor": 2
}
