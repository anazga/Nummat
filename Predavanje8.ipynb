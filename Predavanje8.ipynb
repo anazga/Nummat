{
 "cells": [
  {
   "cell_type": "markdown",
   "metadata": {},
   "source": [
    "# Numerička matematika - 8. predavanje"
   ]
  },
  {
   "cell_type": "markdown",
   "metadata": {},
   "source": [
    "## 1. Ponavljanje s prethodnog predavanja (zadatci iz numeričke integracije)"
   ]
  },
  {
   "cell_type": "markdown",
   "metadata": {},
   "source": [
    "\n",
    "\n",
    "\n",
    "**Zadatak1**  Zadan je integral $$I=\\int_{-\\frac{\\pi}{2}}^{\\frac{\\pi}{2}}x^2\\cos x\\, dx$$\n",
    "\n",
    "(a) Pomoću kompozitne trapezne formule izračunajte numeričku vrijednost integrala na mreži\n",
    "$$x_i=-\\frac{\\pi}{2}+i\\frac{\\pi}{4},\\quad i=0,1,2,3,4$$\n",
    "\n",
    "(b)Ocijenite grešku integracije\n",
    "\n",
    "(c) Integral I želimo izračunati pomoću kompozitne trapezne formule tako da apsolutna greška bude $\\leq 10^{-2}.$\n",
    "Koliko izvrjednjavanja funkcije $f$ je za to potrebno?\n",
    "\n",
    "*Rješenje.* \n",
    "\n",
    "(a) Mreža se sastoji od točaka\n",
    "$$x_0=-\\frac{\\pi}{2},\\quad x_1=-\\frac{\\pi}{4}, \\quad x_2=0,\\quad x_3=\\frac{\\pi}{4},\\quad x_4=\\frac{\\pi}{2}.$$\n",
    "Razmak između točaka je $h=\\frac{\\pi}{4}.$\n",
    "Za 5 točaka kompozitna trapezna formula glasi\n",
    "\n",
    "$$T_{n=4}(f)=\\sum_{i=1}^4\\frac{x_i-x_{i-1}}{2}(f(x_i)+f(x_{i-1}))$$\n",
    "\n",
    "$$T_{n=4}(f)=\\frac{h}{2}(f(x_1)+f(x_0))+\\frac{h}{2}(f(x_2)+f(x_1))+\\frac{h}{2}(f(x_3)+f(x_2))+\\frac{h}{2}(f(x_1)+f(x_3))$$\n",
    "\n",
    "Odnosno imamo\n",
    "$$T_{n=4}(f)=\\frac{h}{2}(f(x_0)+2(f(x_1)+f(x_2)+f(x_3))+f(x_4))$$\n",
    "Budući da je \n",
    "$$f(x)=x^2\\cos x$$\n",
    "imamo\n",
    "$$f(-\\frac{\\pi}{2})=0,\\quad f(-\\frac{\\pi}{4})=\\frac{\\pi^2}{16}\\cdot \\frac{\\sqrt{2}}{2},\\quad f(0)=0,\\quad f(\\frac{\\pi}{4})=\\frac{\\pi^2}{16}\\cdot \\frac{\\sqrt{2}}{2},\\quad f(\\frac{\\pi}{2})=0.$$\n",
    "\n",
    "Odavde dobivamo da je \n",
    "$$T_{n=4}(f)=\\frac{\\pi}{8}\\left(0+2\\cdot \\left(\\frac{\\pi^2}{16}+\\frac{\\pi^2}{16}\\right)+0\\right)\\approx 0.6851$$\n",
    "\n",
    "\n",
    "(b) Procjena pogreške je \n",
    "$$\\left|I(f)-T_4(f)\\right|\\leq \\frac{b-2}{12}\\cdot h^2\\cdot \\|f''\\|_{\\infty}$$\n",
    "\n",
    "Lako se vidi da je\n",
    "$$f''(x)=(2-x^2)\\cos x-4x\\sin x$$\n",
    "te je to parna funkcija. na intervalu $[0,\\frac{\\pi}{2}]$ $f''$ je padajuća funkcija koja ima vrijednost u rubovima tog intervala \n",
    "$$f''(0)=2,\\quad f''(\\frac{\\pi}{2})=-2\\pi.$$\n",
    "Stoga je \n",
    "$$\\max_{x\\in[-\\frac{\\pi}{2},\\frac{\\pi}{2}]}|f''(x)|=2\\pi.$$\n",
    "Dakle, dobivamo\n",
    "\n",
    "$$\\left|I-T_4(f)\\right|\\leq \\frac{\\pi^3}{12\\cdot 16}\\cdot 2\\pi\\approx 1.015$$\n",
    "\n",
    "(c) \\left|I-T_n(f)\\right|\\leq \\frac{(b-a)^3}{12n^2}\\cdot 2\\pi=\\frac{\\pi^4}{6n^2}\\leq 0.01 \\Leftrightarrow 6n^2\\cdot 10^{-2}\\geq \\pi^4.\n",
    "\n",
    "Odavde dobivamo\n",
    "$n\\geq 40.2925,$\n",
    "odnosno potrebna su $42$ izvrednjavanja funkcije $f$.\n",
    "\n",
    "\n",
    "**ZADATAK(DZ)** Zadan je integral\n",
    "$$I=\\int_0^{\\pi}\\cos^4 x\\, dx$$\n",
    "\n",
    "(a) Neka je $x_i=i\\frac{\\pi}{4}, i=0,1,2,3,4.$ Pomoću kompozitne trapezne formule izračunajte približnu vrijednost integrala $I$. \n",
    "\n",
    "(b) Ocijenite pogrešku\n",
    "\n",
    "*Rješenje* \n",
    "$$T_4(f)=\\frac{3\\pi}{8}$$\n",
    "$$\\left|I-T_4(f)\\right|\\leq \\frac{\\pi^3}{48}.$$"
   ]
  },
  {
   "cell_type": "markdown",
   "metadata": {},
   "source": [
    "## 2. Interpolacija splajnovima\n",
    "\n",
    "U uvom dijelu predavanja uvodi se pojam splajna te posebno obrađujemo linearni splajn."
   ]
  },
  {
   "cell_type": "code",
   "execution_count": 1,
   "metadata": {
    "scrolled": false
   },
   "outputs": [
    {
     "data": {
      "image/jpeg": "[encoded data removed]",
      "text/html": [
       "\n",
       "        <iframe\n",
       "            width=\"400\"\n",
       "            height=\"300\"\n",
       "            src=\"https://www.youtube.com/embed/bSkyFsPIM4E\"\n",
       "            frameborder=\"0\"\n",
       "            allowfullscreen\n",
       "        ></iframe>\n",
       "        "
      ],
      "text/plain": [
       "<IPython.lib.display.YouTubeVideo at 0x1ae54318cc0>"
      ]
     },
     "metadata": {},
     "output_type": "display_data"
    }
   ],
   "source": [
    "from IPython.lib.display import YouTubeVideo\n",
    "vid = YouTubeVideo(\"bSkyFsPIM4E\")\n",
    "display(vid)"
   ]
  },
  {
   "cell_type": "markdown",
   "metadata": {},
   "source": [
    "Link na video: https://www.youtube.com/watch?v=bSkyFsPIM4E\n",
    "\n",
    "## 2.1. Kubni splajn i njegova konstrukcija\n"
   ]
  },
  {
   "cell_type": "markdown",
   "metadata": {},
   "source": [
    "U ovom dijelu predavanja objasnit ćemo što je to kubični (kubni) splajn i kako konstruiramo prirodni kubični splajn."
   ]
  },
  {
   "cell_type": "code",
   "execution_count": 3,
   "metadata": {},
   "outputs": [
    {
     "data": {
      "image/jpeg": "[encoded data removed]",
      "text/html": [
       "\n",
       "        <iframe\n",
       "            width=\"400\"\n",
       "            height=\"300\"\n",
       "            src=\"https://www.youtube.com/embed/Ncgc2wYUHdk\"\n",
       "            frameborder=\"0\"\n",
       "            allowfullscreen\n",
       "        ></iframe>\n",
       "        "
      ],
      "text/plain": [
       "<IPython.lib.display.YouTubeVideo at 0x1ae54318c88>"
      ]
     },
     "metadata": {},
     "output_type": "display_data"
    }
   ],
   "source": [
    "from IPython.lib.display import YouTubeVideo\n",
    "vid = YouTubeVideo(\"Ncgc2wYUHdk\") \n",
    "display(vid)"
   ]
  },
  {
   "cell_type": "markdown",
   "metadata": {},
   "source": [
    "Link na video: https://www.youtube.com/watch?v=Ncgc2wYUHdk\n",
    "\n",
    "## 2.2. Rješenje zadatka s prezentacije\n",
    "**Zadatak** Zadana je funkcija\n",
    "$$f(x)=x\\cos(\\pi x)$$\n",
    "te mreža\n",
    "$$\\Delta=\\{0,\\frac{1}{3},\\frac{2}{3},1\\}$$\n",
    "Odredite prirodni kubični splajn koji interpolira zadanu funkciju u točkama mreže.\n",
    "\n",
    "*Rješenje*\n",
    "\n",
    "Kubični splajn je na svakim pojedinom podintervalu mreže kubni polinom.\n",
    "\n",
    "Označimo s\n",
    "\n",
    "\n",
    "$s_0(x)$ polinom najviše trećeg stupnja  na intervalu $\\langle x_0,x_1\\rangle$. \n",
    "\n",
    "$s_1(x)$ polinom najviše trećeg stupnja na intervalu $\\langle x_1,x_2\\rangle$ \n",
    "\n",
    "$s_2(x)$ polinom najviše trećeg stupnja na intervalu $\\langle x_2,x_3\\rangle$ \n",
    "\n",
    "Za nepoznanice $\\gamma_1$ i $\\gamma_2$ dobivamo sustav\n",
    "\n",
    "$$\\frac{h}{6}\\gamma_{i-1}+\\frac{2h}{3}\\gamma_i+\\frac{h}{6}\\gamma_{i+1}=\\frac{y_{i+1}-y_i}{h}-\\frac{y_i-y_{i-1}}{h},\\quad i=1,2.$$\n",
    "odnosno\n",
    "$$\\gamma_{i-1}+4\\gamma_i+\\gamma_{i+1}=6\\frac{y_{i+1}-2y_{i}+y_{i-1}}{h^2},\\quad i=1,2.$$\n",
    "\n",
    "Odavde imamo\n",
    "$$i=1\\quad \\gamma_0+4\\gamma_1+\\gamma_2=6\\cdot \\frac{y_2-2y_1+y_0}{h^2}$$\n",
    "$$\\gamma_1+4\\gamma_2+\\gamma_3=6\\frac{y_3-2y_2+y_1}{h^2}.$$\n",
    "\n",
    "Uzimajući u obzir $\\gamma_0=\\gamma_3=0$ budući da se radi o prirodnom splajnu dolazimo do sustava\n",
    "$$\\begin{bmatrix}4 & 1\\\\\n",
    "1& 4\\end{bmatrix}\\begin{bmatrix}\\gamma_1\\\\ \\gamma_2\\end{bmatrix}=\\begin{bmatrix}-36\\\\ -9\\end{bmatrix}$$\n",
    "odavde dobivamo $\\gamma_1=-9$ i $\\gamma_2=0.$\n",
    "\n",
    "\n",
    "Na svakom podintervalu splajn je funkcija oblika\n",
    "\n",
    "$$s_i(x)=\\frac{\\gamma_i}{6h}(x_{i+1}-x)^3+\\frac{\\gamma_{i+1}}{6h}(x-x_i)^3+C(x-x_i)+D(x_{i+1}-x),\\quad x\\in[x_{i},x_{i+1}], i=0,1,2.$$\n",
    "\n",
    "Pogledajmo kako splajn izgleda na intervalu $[x_0,x_1].$ Imamo:\n",
    "\n",
    "$$s_0(x)=0+(-9)\\cdot \\frac{1}{6\\cdot \\frac{1}{3}}(x-0)^3+C(x-0)+D(\\frac{1}{3}-x)$$\n",
    "iz uvjeta $s_0(x_0)=y_0$ i $s_0(x_1)=y_1$ dobivamo\n",
    "$$D=0,\\quad C=1$$\n",
    "te dobivamo \n",
    "$$s_0(x)=-\\frac{9}{2}x^3+x,\\quad x\\in [x_0,x_1]=[0,\\frac{1}{3}].$$\n",
    "\n",
    "\n",
    "Dalje imamo\n",
    "$$s_1(x)=\\frac{\\gamma_1}{6h}(x_2-x)^3+\\frac{\\gamma_2}{6h}(x-x_1)^3+C(x-x_1)+D(x_2-x.)$$\n",
    "Korištenjem $\\gamma_1=-9,\\gamma_2=0$ i interpolacijskih uvjeta \n",
    "$$s_1(x_1)=y_1, \\quad s_1(x_2)=y_2$$\n",
    "dobivamo\n",
    "$$C=-1, \\quad D=1.$$\n",
    "Sada imamo\n",
    "$$s_1(x)=\\frac{9}{2}x^3-9x^2+4x-\\frac{1}{3}.$$\n",
    "\n",
    "Potpuno analogno dobivamo $s_2(x)=-2x+1.$\n",
    "\n"
   ]
  },
  {
   "cell_type": "markdown",
   "metadata": {},
   "source": [
    "*** Dokaz teorema s predavanja***\n",
    "\n",
    "**Teorem** Neka je $A\\in \\mathbb{R}^{n\\times n}$ strogo dijagonalno dominantna matrica. Tada je $A$ regularna matrica.\n",
    "\n",
    "**Dokaz**\n",
    "\n",
    "Pretpostavimo da je matrica $A$ singularna. U tom slučaju postoji vektor $x\\neq 0$ takav da je $Ax=0.$ \n",
    "\n",
    "Odaberimo indeks $i\\in \\{1,\\ldots,n\\}$ tako da vrijedi\n",
    "$$|x_i|=\\|x\\|_{\\infty}=\\max_{i\\leq j\\leq n}|x_j|$$\n",
    "Imamo\n",
    "$$0=(Ax)_i=\\sum_{j=1}^n a_{ij}x_j=a_{ii}x_i+\\sum_{j=1,j\\neq i}^n a_{ij}x_j$$\n",
    "odavde slijedi\n",
    "$$|a_{ii}x_i|=|-\\sum_{j=1,j\\neq i}^n a_{ij}x_j|\\leq \\sum_{j=1,j\\neq i}^n |a_{ij}||x_j|$$\n",
    "\n",
    "Konačno, dijeljenjem prethodne nejednakosti s $|x_i|$ dobivamo\n",
    "\n",
    "$$|a_{ii}|\\leq \\sum_{j=1,j\\neq i}^n |a_{ij}|\\frac{|x_j|}{|x_i|}\\leq \\sum_{j=1,j\\neq i}^n|a_{ij}|$$ što je u suprotnosti s pretpostavkom da je matrica $A$ strogo dijagnalno dominantna.\n"
   ]
  }
 ],
 "metadata": {
  "kernelspec": {
   "display_name": "Python 3",
   "language": "python",
   "name": "python3"
  },
  "language_info": {
   "codemirror_mode": {
    "name": "ipython",
    "version": 3
   },
   "file_extension": ".py",
   "mimetype": "text/x-python",
   "name": "python",
   "nbconvert_exporter": "python",
   "pygments_lexer": "ipython3",
   "version": "3.6.4"
  }
 },
 "nbformat": 4,
 "nbformat_minor": 2
}
